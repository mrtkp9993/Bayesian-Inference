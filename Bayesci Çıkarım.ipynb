{
 "cells": [
  {
   "cell_type": "markdown",
   "metadata": {},
   "source": [
    "# Python ile Bayesci Çıkarım (Bayesian Inference)\n",
    "***"
   ]
  },
  {
   "cell_type": "markdown",
   "metadata": {},
   "source": [
    "<p>Bayesyen çıkarım, temeli Bayes Teoremine dayandırılarak geliştirilmiş bir\n",
    "çıkarım sistemidir. İstatistik gelişirken temel olarak iki farklı felsefi\n",
    "yaklaşımın belirginleştiği görülmektedir. Bunlar Klasik (veya Frekansçı - Frequentist) yaklaşım ve Bayesci (Bayesian) yaklaşımlardır.</p>\n",
    "\n",
    "<p>Hangi istatistiksel yaklaşım olduğundan bağımsız olarak, herhangi bir istatistiksel çıkarım paradigması aşağıdaki şeylerle ilgilenir:\n",
    "</p>\n",
    "\n",
    "1. Öğrenmek veya test etmekle ilgilendiğimiz bazı _bilinmeyen çokluklar_ (**quantity**). Bunlar **parametre** olarak adlandırılır.\n",
    "2. Gözlemlediğimiz ve bilgi içermesini ümit ettiğimiz bazı **veriler**.\n",
    "3. Veriler ve parametreler arasında ilişki kurmamıza yardım edecek **modeller**.\n",
    "\n",
    "<p> Şimdi Frekansçı ve Bayesci bakış açılarına kısaca göz atalım.\n",
    "</p>\n",
    "\n",
    "## Frekansçı Bakış Açısı\n",
    "* **Veriler** rasgeledir, çünkü veriler rasgele süreçlerin (**random processes**) bir sonucudur. \n",
    "* **Model parametreleri** sabit (**fixed**) kabul edilir. Bir parametrenin gerçek değeri bir bilinmeyen ve sabittir.\n",
    "\n",
    "<p>Bu model matematiksel olarak:</p> \n",
    "\n",
    "$$f(y\\mid\\theta)$$ \n",
    "\n",
    "<p>şeklinde yazılabilir. Burada, $ f $ fonksiyonu, belirli $\\theta$ parametreleri için verileri ($y$) argüman olarak kabul eder.</p>"
   ]
  },
  {
   "cell_type": "markdown",
   "metadata": {},
   "source": [
    "## KAYNAKÇA\n",
    "1. Ekici, O. (2009, Haziran). İstatistikte Bayesyen ve Klasik Yaklaşımın Kavramsal Farklılıkları. Balıkesir Üniversitesi Sosyal Bilimler Enstitüsü Dergisi, 12(21), 89-101."
   ]
  },
  {
   "cell_type": "code",
   "execution_count": null,
   "metadata": {},
   "outputs": [],
   "source": []
  }
 ],
 "metadata": {
  "kernelspec": {
   "display_name": "Python 3",
   "language": "python",
   "name": "python3"
  },
  "language_info": {
   "codemirror_mode": {
    "name": "ipython",
    "version": 3
   },
   "file_extension": ".py",
   "mimetype": "text/x-python",
   "name": "python",
   "nbconvert_exporter": "python",
   "pygments_lexer": "ipython3",
   "version": "3.6.3"
  }
 },
 "nbformat": 4,
 "nbformat_minor": 2
}

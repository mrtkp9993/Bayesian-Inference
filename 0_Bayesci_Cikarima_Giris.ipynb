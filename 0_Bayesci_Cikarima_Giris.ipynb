{
 "cells": [
  {
   "cell_type": "markdown",
   "metadata": {},
   "source": [
    "# Python ile Bayesci Çıkarım (Bayesian Inference)\n",
    "***"
   ]
  },
  {
   "cell_type": "markdown",
   "metadata": {},
   "source": [
    "<p>Bayesyen çıkarım, temeli Bayes Teoremine dayandırılarak geliştirilmiş bir\n",
    "çıkarım sistemidir. İstatistik gelişirken temel olarak iki farklı felsefi\n",
    "yaklaşımın belirginleştiği görülmektedir. Bunlar Klasik (veya Frekansçı - Frequentist) yaklaşım ve Bayesci (Bayesian) yaklaşımlardır.</p>\n",
    "\n",
    "<p>Hangi istatistiksel yaklaşım olduğundan bağımsız olarak, herhangi bir istatistiksel çıkarım paradigması aşağıdaki şeylerle ilgilenir:\n",
    "</p>\n",
    "\n",
    "1. Öğrenmek veya test etmekle ilgilendiğimiz bazı _bilinmeyen çokluklar_ (**quantity**). Bunlar **parametre** olarak adlandırılır.\n",
    "2. Gözlemlediğimiz ve bilgi içermesini ümit ettiğimiz bazı **veriler**.\n",
    "3. Veriler ve parametreler arasında ilişki kurmamıza yardım edecek **modeller**.\n",
    "\n",
    "<p> Şimdi Frekansçı ve Bayesci bakış açılarına kısaca göz atalım.\n",
    "</p>\n",
    "\n",
    "## Frekansçı Bakış Açısı\n",
    "* **Veriler** rasgeledir, çünkü veriler rasgele süreçlerin (**random processes**) bir sonucudur. \n",
    "* **Model parametreleri** sabit (**fixed**) kabul edilir. Bir parametrenin gerçek değeri bir bilinmeyen ve sabittir.\n",
    "\n",
    "<p>Bu model matematiksel olarak:</p> \n",
    "\n",
    "$$f(y\\mid\\theta)$$ \n",
    "\n",
    "<p>şeklinde yazılabilir. Burada, $ f $ fonksiyonu, belirli $\\theta$ parametreleri için verileri ($y$) argüman olarak kabul eder.</p>\n",
    "\n",
    "## Bayesci Bakış Açısı\n",
    "* **Veriler** sabittir. Veriler rasgele olsalar bile, bir kez defterinize/e-tablonuza/IPython defterinize yazıldıktan sonra değişmezler.\n",
    "* **Model parametrelerinin** kendileri rasgele olmayabilirler, ancak Bayesciler parametre değerlerindeki belirsizlikleri tanımlamak için olasılık dağılımlarını kullanırlar, ve bu nedenle parametreler rasgele olarak değerlendirilir.\n",
    "\n",
    "<p>Bu model matematiksel olarak:</p>\n",
    "\n",
    "$$f(\\theta\\mid y)$$ \n",
    "\n",
    "<p> şeklinde yazılabilir.</p>\n",
    "<p>Bayesci çıkarımda, frekansçı çıkarımın aksine, tek bir tahmin edici vardır: **Bayes Formulü**.</p>\n",
    "\n",
    "<img src=\"bayes_formula.png\">\n",
    "\n",
    "<p>Burada:</p>\n",
    "\n",
    "* **Prior probability**: Önsel olasılık, mevcut veri gözlemlenmeden önce bilinmeyen bir çokluk hakkında bilinenleri karakterize eder. Önceki çalışmalarda elde edilen bilgileri, parametreyi makul değerlere sınırlamak için kullanılabilir.\n",
    "* **Likelihood functions**: Likelihood (?), gözlemlenen verideki bilgiyi temsil eder ve önsel olasılığı sonsal olasılığa (posterior probability) güncellemek için kullanılır.\n",
    "\n",
    "<p>$Pr(y)$ ifadesi genelde doğrudan hesaplanamaz. Bu değer aslında paydaki değerin tüm $\\theta$ değerleri üzerinden integraline eşittir:</p>\n",
    "\n",
    "$$Pr(\\theta|y) = \\frac{Pr(y|\\theta)Pr(\\theta)}{\\int Pr(y|\\theta)Pr(\\theta) d\\theta}$$"
   ]
  },
  {
   "cell_type": "markdown",
   "metadata": {},
   "source": [
    "## Üç adımda Bayesci Çıkarım\n",
    "1. Modeli, olasılık dağılımları ile belirtin.\n",
    "  1. Verilerin örnekleme dağılımları (**sampling distribution**) nedir?\n",
    "  2. Bilinmeyen parametrelerdeki belirsizliğimizi en iyi hangi dağılım ile tanımlayabiliriz?\n",
    "2. Sonsal dağılımı hesaplayın.\n",
    "3. Modelinizi kontrol edin.\n",
    "  1. Model veriye uyuyor mu?\n",
    "  2. Sonuçlar makul mü?\n",
    "  3. Çıktılar model yapısındaki değişikliklere duyarlı mı?"
   ]
  },
  {
   "cell_type": "markdown",
   "metadata": {},
   "source": [
    "## KAYNAKÇA\n",
    "1. Ekici, O. (2009, Haziran). İstatistikte Bayesyen ve Klasik Yaklaşımın Kavramsal Farklılıkları. Balıkesir Üniversitesi Sosyal Bilimler Enstitüsü Dergisi, 12(21), 89-101.\n",
    "2. Gelman, A., Carlin, J. B., Stern, H. S., Dunson, D. B., Vehtari, A., & Rubin, D. B. (2013). Bayesian Data Analysis, Third Edition. CRC Press.\n",
    "3. Kruschke, J.K. Doing Bayesian Data Analysis, Second Edition: A Tutorial with R, JAGS, and Stan. 2015. Academic Press / Elsevier.\n",
    "4. O'Shea M, Savitz D.A., Hage M.L., Feinstein K.A.: Prenatal events and the risk of subependymal / intraventricular haemorrhage in very low birth weight neonates. Paediatric and Perinatal Epdiemiology 1992;6:352-362"
   ]
  },
  {
   "cell_type": "code",
   "execution_count": null,
   "metadata": {},
   "outputs": [],
   "source": []
  }
 ],
 "metadata": {
  "kernelspec": {
   "display_name": "Python 3",
   "language": "python",
   "name": "python3"
  },
  "language_info": {
   "codemirror_mode": {
    "name": "ipython",
    "version": 3
   },
   "file_extension": ".py",
   "mimetype": "text/x-python",
   "name": "python",
   "nbconvert_exporter": "python",
   "pygments_lexer": "ipython3",
   "version": "3.6.3"
  }
 },
 "nbformat": 4,
 "nbformat_minor": 2
}

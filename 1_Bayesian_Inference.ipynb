{
 "cells": [
  {
   "cell_type": "markdown",
   "metadata": {
    "colab_type": "text",
    "id": "UKw_u63RujZz"
   },
   "source": [
    "Python ile Bayesci Çıkarım (Bayesian Inference)\n",
    "==============================================="
   ]
  },
  {
   "cell_type": "markdown",
   "metadata": {
    "colab_type": "text",
    "id": "Utu1ePe_qmhw"
   },
   "source": [
    "## Sürekli çıktılara sahip İki Deney Grubunun Karşılaştırılması\n",
    "\n",
    "<p>Deney, insanların zeka seviyesini artırdığını iddia eden bir ilacın etkinliğini ölçmeyi amaçlamaktadır. Tedavi grubunda 47 denek, kontrol grubunda 42 denek yer almaktadır. </p>"
   ]
  },
  {
   "cell_type": "code",
   "execution_count": 1,
   "metadata": {
    "colab": {
     "autoexec": {
      "startup": false,
      "wait_interval": 0
     },
     "base_uri": "https://localhost:8080/",
     "height": 367,
     "output_extras": [
      {
       "item_id": 1
      }
     ]
    },
    "colab_type": "code",
    "executionInfo": {
     "elapsed": 1387,
     "status": "ok",
     "timestamp": 1522068264896,
     "user": {
      "displayName": "Murat Koptur",
      "photoUrl": "//lh3.googleusercontent.com/-YNBz6V673Sk/AAAAAAAAAAI/AAAAAAAAAZQ/EuxwvpbCZIo/s50-c-k-no/photo.jpg",
      "userId": "110673521513516399001"
     },
     "user_tz": -180
    },
    "id": "0Cm60lN_rS9S",
    "outputId": "4fa2a6d0-bbe0-4e9a-8ac4-5c78eb356cdf"
   },
   "outputs": [
    {
     "data": {
      "text/plain": [
       "array([<matplotlib.axes._subplots.AxesSubplot object at 0x7f08f2e1e128>,\n",
       "       <matplotlib.axes._subplots.AxesSubplot object at 0x7f08f041f4a8>], dtype=object)"
      ]
     },
     "execution_count": 1,
     "metadata": {},
     "output_type": "execute_result"
    },
    {
     "data": {
      "image/png": "[encoded data removed]",
      "text/plain": [
       "<matplotlib.figure.Figure at 0x7f08f2de8a20>"
      ]
     },
     "metadata": {},
     "output_type": "display_data"
    }
   ],
   "source": [
    "import pandas as pd\n",
    "%matplotlib inline\n",
    "\n",
    "drug = pd.DataFrame(dict(iq=(101,100,102,104,102,97,105,105,98,101,100,123,105,103,100,95,102,106,\n",
    "        109,102,82,102,100,102,102,101,102,102,103,103,97,97,103,101,97,104,\n",
    "        96,103,124,101,101,100,101,101,104,100,101),\n",
    "                         group='drug'))\n",
    "placebo = pd.DataFrame(dict(iq=(99,101,100,101,102,100,97,101,104,101,102,102,100,105,88,101,100,\n",
    "           104,100,100,100,101,102,103,97,101,101,100,101,99,101,100,100,\n",
    "           101,100,99,101,100,102,99,100,99),\n",
    "                            group='placebo'))\n",
    "\n",
    "trial_data = pd.concat([drug, placebo], ignore_index=True)\n",
    "trial_data.hist('iq', by='group')"
   ]
  },
  {
   "cell_type": "markdown",
   "metadata": {
    "colab_type": "text",
    "id": "NCGMAfmXrgLP"
   },
   "source": [
    "<p>Örnekler aykırı noktalar (**outlier**) içerdiğinden, deneklerin IQ skorlarının dağılımlarını açıklamak için Student-t dağılımını kullanacağız. T dağılımı, Normal dağılıma göre aykırı noktalara daha az hassasdır.</p>\n",
    "<p>Üç parametreli Student-t dağılımı ortalama $\\mu $, kesinlik (ters-varyans) $\\lambda $ ve serbestlik derecesi $\\nu$ tanımlamıza imkan sağlar:</p>\n",
    "\n",
    "$$f(x|\\mu,\\lambda,\\nu) = \\frac{\\Gamma(\\frac{\\nu + 1}{2})}{\\Gamma(\\frac{\\nu}{2})} \\left(\\frac{\\lambda}{\\pi\\nu}\\right)^{\\frac{1}{2}} \\left[1+\\frac{\\lambda(x-\\mu)^2}{\\nu}\\right]^{-\\frac{\\nu+1}{2}}.$$\n",
    "<p>Burada serbestlik derecesi, verinin normalliğini belirtir. Büyük $\\nu $ değerleri, dağılımın normal dağılıma yakınsamasını sağlar. </p>\n",
    "<p>O halde likelihood fonksiyonlarımızı aşağıdaki gibi tanımlayalım:</p>\n",
    "\n",
    "$$\\begin{align}\n",
    "y^{(drug)}_i &\\sim T(\\nu, \\mu_1, \\sigma_1) \\\\\n",
    "y^{(placebo)}_i &\\sim T(\\nu, \\mu_2, \\sigma_2)\n",
    "\\end{align}$$\n",
    "\n",
    "<p>Kolaylık olması için serbestlik derecesini her iki grup için de aynı aldık.</p>\n",
    "\n",
    "## Önsel Seçim\n",
    "\n",
    "<p>Ortalamalar gerçel değerlerdir ve bunları normal dağılımla belirleyeceğiz. IQ skorlarının ortalaması 100 olduğundan ve skorların normal dağıldığını bildiğimizden:</p>\n",
    "\n",
    "$$\\mu_k \\sim N(100, 10^2)$$\n",
    "\n",
    "<p>seçelim. </p>"
   ]
  },
  {
   "cell_type": "code",
   "execution_count": 2,
   "metadata": {
    "colab": {
     "autoexec": {
      "startup": false,
      "wait_interval": 0
     }
    },
    "colab_type": "code",
    "id": "aCP98DhrsqLM"
   },
   "outputs": [],
   "source": [
    "from pymc3 import Model, Normal\n",
    "\n",
    "with Model() as drug_model:\n",
    "  \n",
    "  μ_0 = Normal('μ_0', 100, sd=10)\n",
    "  μ_1 = Normal('μ_1', 100, sd=10)"
   ]
  },
  {
   "cell_type": "markdown",
   "metadata": {
    "colab_type": "text",
    "id": "5T0cm_-k3QJS"
   },
   "source": [
    "<p>Standart sapmalar için de düzgün dağılımı kullanacağız:</p>"
   ]
  },
  {
   "cell_type": "code",
   "execution_count": 3,
   "metadata": {
    "colab": {
     "autoexec": {
      "startup": false,
      "wait_interval": 0
     }
    },
    "colab_type": "code",
    "collapsed": true,
    "id": "1w2Vza3t3ZdH"
   },
   "outputs": [],
   "source": [
    "from pymc3 import Uniform\n",
    "\n",
    "with drug_model:\n",
    "  \n",
    "  σ_0 = Uniform('σ_0', lower=0, upper=20)\n",
    "  σ_1 = Uniform('σ_1', lower=0, upper=20)"
   ]
  },
  {
   "cell_type": "markdown",
   "metadata": {
    "colab_type": "text",
    "id": "i4sFpLQQ3t2w"
   },
   "source": [
    "<p>Serbestlik derecesi $\\nu $ için, ortalaması 30 olan üstel dağılım kullanacağız. </p>"
   ]
  },
  {
   "cell_type": "code",
   "execution_count": 4,
   "metadata": {
    "colab": {
     "autoexec": {
      "startup": false,
      "wait_interval": 0
     }
    },
    "colab_type": "code",
    "collapsed": true,
    "id": "okhBrunl76sM"
   },
   "outputs": [],
   "source": [
    "from pymc3 import Exponential\n",
    "\n",
    "with drug_model:\n",
    "  ν = Exponential('ν_minus_one', 1/29.) + 1"
   ]
  },
  {
   "cell_type": "code",
   "execution_count": 5,
   "metadata": {
    "colab": {
     "autoexec": {
      "startup": false,
      "wait_interval": 0
     },
     "base_uri": "https://localhost:8080/",
     "height": 364,
     "output_extras": [
      {
       "item_id": 1
      },
      {
       "item_id": 2
      }
     ]
    },
    "colab_type": "code",
    "executionInfo": {
     "elapsed": 1850,
     "status": "ok",
     "timestamp": 1522068269936,
     "user": {
      "displayName": "Murat Koptur",
      "photoUrl": "//lh3.googleusercontent.com/-YNBz6V673Sk/AAAAAAAAAAI/AAAAAAAAAZQ/EuxwvpbCZIo/s50-c-k-no/photo.jpg",
      "userId": "110673521513516399001"
     },
     "user_tz": -180
    },
    "id": "ZXf9U5f88JDD",
    "outputId": "133bbd76-7452-44d7-8de4-03dfe7d8f3b3"
   },
   "outputs": [
    {
     "data": {
      "text/plain": [
       "<matplotlib.axes._subplots.AxesSubplot at 0x7f08dd835d68>"
      ]
     },
     "execution_count": 5,
     "metadata": {},
     "output_type": "execute_result"
    },
    {
     "data": {
      "image/png": "[encoded data removed]",
      "text/plain": [
       "<matplotlib.figure.Figure at 0x7f08de014a20>"
      ]
     },
     "metadata": {},
     "output_type": "display_data"
    }
   ],
   "source": [
    "import seaborn as sns\n",
    "\n",
    "sns.distplot(Exponential.dist(1/29).random(size=10000), kde=False)"
   ]
  },
  {
   "cell_type": "code",
   "execution_count": 6,
   "metadata": {
    "colab": {
     "autoexec": {
      "startup": false,
      "wait_interval": 0
     }
    },
    "colab_type": "code",
    "collapsed": true,
    "id": "6Cfde8P18Ver"
   },
   "outputs": [],
   "source": [
    "from pymc3 import StudentT\n",
    "\n",
    "with drug_model:\n",
    "  \n",
    "  drug_like = StudentT('drug_like', nu=ν, mu=μ_1, lam=σ_1**-2, observed=drug.iq)\n",
    "  placebo_like = StudentT('placebo_like', nu=ν, mu=μ_0, lam=σ_0**-2, observed=placebo.iq)"
   ]
  },
  {
   "cell_type": "markdown",
   "metadata": {
    "colab_type": "text",
    "id": "uZV4PERD86Kd"
   },
   "source": [
    "<p>Modelimizi tanımladık. Şimdi, deney ve kontrol gruplarının ortalamalarındaki farkları karşılaştırabiliriz.</p>\n",
    "<p>Ayrıca, etki büyüklüğünü hesaplayacağız.</p>"
   ]
  },
  {
   "cell_type": "code",
   "execution_count": 7,
   "metadata": {
    "colab": {
     "autoexec": {
      "startup": false,
      "wait_interval": 0
     }
    },
    "colab_type": "code",
    "collapsed": true,
    "id": "Lv36l45-9dpm"
   },
   "outputs": [],
   "source": [
    "from pymc3 import Deterministic\n",
    "import numpy as np\n",
    "\n",
    "with drug_model:\n",
    "  \n",
    "  diff_of_means = Deterministic('difference of means', μ_1 - μ_0)\n",
    "  effect_size = Deterministic('effect size', diff_of_means / np.sqrt((σ_1**2 + σ_0**2) / 2))"
   ]
  },
  {
   "cell_type": "code",
   "execution_count": 8,
   "metadata": {
    "colab": {
     "autoexec": {
      "startup": false,
      "wait_interval": 0
     },
     "base_uri": "https://localhost:8080/",
     "height": 51,
     "output_extras": [
      {
       "item_id": 22
      },
      {
       "item_id": 23
      }
     ]
    },
    "colab_type": "code",
    "executionInfo": {
     "elapsed": 18100,
     "status": "ok",
     "timestamp": 1522068290632,
     "user": {
      "displayName": "Murat Koptur",
      "photoUrl": "//lh3.googleusercontent.com/-YNBz6V673Sk/AAAAAAAAAAI/AAAAAAAAAZQ/EuxwvpbCZIo/s50-c-k-no/photo.jpg",
      "userId": "110673521513516399001"
     },
     "user_tz": -180
    },
    "id": "-v-YxS-a96b8",
    "outputId": "25f571bf-6bfd-4d12-cbb8-a6605281a55f"
   },
   "outputs": [
    {
     "name": "stderr",
     "output_type": "stream",
     "text": [
      "Average Loss = 244.61: 100%|██████████| 10000/10000 [00:06<00:00, 1502.21it/s]\n",
      "Finished [100%]: Average Loss = 244.59\n"
     ]
    }
   ],
   "source": [
    "from pymc3 import fit\n",
    "\n",
    "with drug_model:\n",
    "  \n",
    "  drug_trace = fit().sample(1000)"
   ]
  },
  {
   "cell_type": "code",
   "execution_count": 9,
   "metadata": {
    "colab": {
     "autoexec": {
      "startup": false,
      "wait_interval": 0
     },
     "base_uri": "https://localhost:8080/",
     "height": 651,
     "output_extras": [
      {
       "item_id": 1
      },
      {
       "item_id": 2
      }
     ]
    },
    "colab_type": "code",
    "executionInfo": {
     "elapsed": 2995,
     "status": "ok",
     "timestamp": 1522068349345,
     "user": {
      "displayName": "Murat Koptur",
      "photoUrl": "//lh3.googleusercontent.com/-YNBz6V673Sk/AAAAAAAAAAI/AAAAAAAAAZQ/EuxwvpbCZIo/s50-c-k-no/photo.jpg",
      "userId": "110673521513516399001"
     },
     "user_tz": -180
    },
    "id": "Y4exPIn4UIgH",
    "outputId": "e22748b6-9d0f-4700-c3a8-212e427d243a"
   },
   "outputs": [
    {
     "data": {
      "text/plain": [
       "array([<matplotlib.axes._subplots.AxesSubplot object at 0x7f08d7249048>,\n",
       "       <matplotlib.axes._subplots.AxesSubplot object at 0x7f08d70336a0>,\n",
       "       <matplotlib.axes._subplots.AxesSubplot object at 0x7f08dabf38d0>,\n",
       "       <matplotlib.axes._subplots.AxesSubplot object at 0x7f08d71d77b8>,\n",
       "       <matplotlib.axes._subplots.AxesSubplot object at 0x7f08d9945128>], dtype=object)"
      ]
     },
     "execution_count": 9,
     "metadata": {},
     "output_type": "execute_result"
    },
    {
     "data": {
      "image/png": "[encoded data removed]",
      "text/plain": [
       "<matplotlib.figure.Figure at 0x7f08d7249518>"
      ]
     },
     "metadata": {},
     "output_type": "display_data"
    }
   ],
   "source": [
    "from pymc3 import plot_posterior\n",
    "\n",
    "plot_posterior(drug_trace[100:], varnames=['μ_0', 'μ_1', 'σ_0', 'σ_1', 'ν_minus_one'])"
   ]
  },
  {
   "cell_type": "code",
   "execution_count": 10,
   "metadata": {
    "colab": {
     "autoexec": {
      "startup": false,
      "wait_interval": 0
     },
     "base_uri": "https://localhost:8080/",
     "height": 240,
     "output_extras": [
      {
       "item_id": 1
      },
      {
       "item_id": 2
      }
     ]
    },
    "colab_type": "code",
    "executionInfo": {
     "elapsed": 1484,
     "status": "ok",
     "timestamp": 1522068387986,
     "user": {
      "displayName": "Murat Koptur",
      "photoUrl": "//lh3.googleusercontent.com/-YNBz6V673Sk/AAAAAAAAAAI/AAAAAAAAAZQ/EuxwvpbCZIo/s50-c-k-no/photo.jpg",
      "userId": "110673521513516399001"
     },
     "user_tz": -180
    },
    "id": "PpZTZAglV9W3",
    "outputId": "0adc7f9d-1dda-4bea-9b7f-421cb3c0cfbc"
   },
   "outputs": [
    {
     "data": {
      "text/plain": [
       "array([<matplotlib.axes._subplots.AxesSubplot object at 0x7f08d9ec3438>,\n",
       "       <matplotlib.axes._subplots.AxesSubplot object at 0x7f08da0f3ba8>], dtype=object)"
      ]
     },
     "execution_count": 10,
     "metadata": {},
     "output_type": "execute_result"
    },
    {
     "data": {
      "image/png": "[encoded data removed]",
      "text/plain": [
       "<matplotlib.figure.Figure at 0x7f08d9fd42b0>"
      ]
     },
     "metadata": {},
     "output_type": "display_data"
    }
   ],
   "source": [
    "plot_posterior(drug_trace[100:], \n",
    "          varnames=['difference of means', 'effect size'],\n",
    "          ref_val=0)"
   ]
  },
  {
   "cell_type": "markdown",
   "metadata": {
    "colab_type": "text",
    "id": "v0lDyYeeWPzL"
   },
   "source": [
    "> Deney grubunun ortalama IQ skorlarının kontrol grubununu ortalama IQ skorlarından daha büyük olma sonsal olasılığı 0.802 dır."
   ]
  }
 ],
 "metadata": {
  "colab": {
   "collapsed_sections": [],
   "default_view": {},
   "name": "1_Bayesian_Inference.ipynb",
   "provenance": [],
   "version": "0.3.2",
   "views": {}
  },
  "kernelspec": {
   "display_name": "Python 3",
   "language": "python",
   "name": "python3"
  },
  "language_info": {
   "codemirror_mode": {
    "name": "ipython",
    "version": 3
   },
   "file_extension": ".py",
   "mimetype": "text/x-python",
   "name": "python",
   "nbconvert_exporter": "python",
   "pygments_lexer": "ipython3",
   "version": "3.6.3"
  }
 },
 "nbformat": 4,
 "nbformat_minor": 1
}
